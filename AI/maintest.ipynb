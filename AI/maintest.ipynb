{
 "cells": [
  {
   "cell_type": "code",
   "execution_count": 25,
   "metadata": {},
   "outputs": [
    {
     "name": "stdout",
     "output_type": "stream",
     "text": [
      "Defaulting to user installation because normal site-packages is not writeable\n",
      "Requirement already satisfied: flask in /Users/riandwi/Library/Python/3.9/lib/python/site-packages (3.0.2)\n",
      "Requirement already satisfied: opencv-python in /Users/riandwi/Library/Python/3.9/lib/python/site-packages (4.9.0.80)\n",
      "Collecting scikit-image\n",
      "  Downloading scikit_image-0.22.0-cp39-cp39-macosx_12_0_arm64.whl (13.3 MB)\n",
      "\u001b[K     |████████████████████████████████| 13.3 MB 36.5 MB/s eta 0:00:01\n",
      "\u001b[?25hRequirement already satisfied: Jinja2>=3.1.2 in /Users/riandwi/Library/Python/3.9/lib/python/site-packages (from flask) (3.1.3)\n",
      "Requirement already satisfied: itsdangerous>=2.1.2 in /Users/riandwi/Library/Python/3.9/lib/python/site-packages (from flask) (2.1.2)\n",
      "Requirement already satisfied: click>=8.1.3 in /Users/riandwi/Library/Python/3.9/lib/python/site-packages (from flask) (8.1.7)\n",
      "Requirement already satisfied: Werkzeug>=3.0.0 in /Users/riandwi/Library/Python/3.9/lib/python/site-packages (from flask) (3.0.1)\n",
      "Requirement already satisfied: importlib-metadata>=3.6.0 in /Users/riandwi/Library/Python/3.9/lib/python/site-packages (from flask) (7.0.1)\n",
      "Requirement already satisfied: blinker>=1.6.2 in /Users/riandwi/Library/Python/3.9/lib/python/site-packages (from flask) (1.7.0)\n",
      "Requirement already satisfied: numpy>=1.21.0 in /Users/riandwi/Library/Python/3.9/lib/python/site-packages (from opencv-python) (1.26.4)\n",
      "Collecting tifffile>=2022.8.12\n",
      "  Downloading tifffile-2024.2.12-py3-none-any.whl (224 kB)\n",
      "\u001b[K     |████████████████████████████████| 224 kB 3.2 MB/s eta 0:00:01\n",
      "\u001b[?25hCollecting lazy_loader>=0.3\n",
      "  Downloading lazy_loader-0.3-py3-none-any.whl (9.1 kB)\n",
      "Requirement already satisfied: packaging>=21 in /Users/riandwi/Library/Python/3.9/lib/python/site-packages (from scikit-image) (23.2)\n",
      "Collecting imageio>=2.27\n",
      "  Downloading imageio-2.34.0-py3-none-any.whl (313 kB)\n",
      "\u001b[K     |████████████████████████████████| 313 kB 3.2 MB/s eta 0:00:01\n",
      "\u001b[?25hRequirement already satisfied: scipy>=1.8 in /Users/riandwi/Library/Python/3.9/lib/python/site-packages (from scikit-image) (1.12.0)\n",
      "Collecting networkx>=2.8\n",
      "  Downloading networkx-3.2.1-py3-none-any.whl (1.6 MB)\n",
      "\u001b[K     |████████████████████████████████| 1.6 MB 3.1 MB/s eta 0:00:01\n",
      "\u001b[?25hRequirement already satisfied: pillow>=9.0.1 in /Users/riandwi/Library/Python/3.9/lib/python/site-packages (from scikit-image) (10.2.0)\n",
      "Requirement already satisfied: zipp>=0.5 in /Users/riandwi/Library/Python/3.9/lib/python/site-packages (from importlib-metadata>=3.6.0->flask) (3.17.0)\n",
      "Requirement already satisfied: MarkupSafe>=2.0 in /Users/riandwi/Library/Python/3.9/lib/python/site-packages (from Jinja2>=3.1.2->flask) (2.1.5)\n",
      "Installing collected packages: tifffile, networkx, lazy-loader, imageio, scikit-image\n",
      "Successfully installed imageio-2.34.0 lazy-loader-0.3 networkx-3.2.1 scikit-image-0.22.0 tifffile-2024.2.12\n",
      "\u001b[33mWARNING: You are using pip version 21.2.4; however, version 24.0 is available.\n",
      "You should consider upgrading via the '/Library/Developer/CommandLineTools/usr/bin/python3 -m pip install --upgrade pip' command.\u001b[0m\n",
      "Note: you may need to restart the kernel to use updated packages.\n"
     ]
    }
   ],
   "source": [
    "%pip install flask opencv-python scikit-image"
   ]
  },
  {
   "cell_type": "code",
   "execution_count": 6,
   "metadata": {},
   "outputs": [
    {
     "name": "stdout",
     "output_type": "stream",
     "text": [
      " * Serving Flask app '__main__'\n",
      " * Debug mode: off\n"
     ]
    },
    {
     "name": "stderr",
     "output_type": "stream",
     "text": [
      "\u001b[31m\u001b[1mWARNING: This is a development server. Do not use it in a production deployment. Use a production WSGI server instead.\u001b[0m\n",
      " * Running on all addresses (0.0.0.0)\n",
      " * Running on http://127.0.0.1:5002\n",
      " * Running on http://192.168.18.14:5002\n",
      "\u001b[33mPress CTRL+C to quit\u001b[0m\n"
     ]
    },
    {
     "name": "stdout",
     "output_type": "stream",
     "text": [
      "Uploaded image shape: (810, 790, 3)\n"
     ]
    },
    {
     "name": "stderr",
     "output_type": "stream",
     "text": [
      "192.168.18.14 - - [02/Apr/2024 20:16:19] \"POST /compare HTTP/1.1\" 200 -\n"
     ]
    },
    {
     "name": "stdout",
     "output_type": "stream",
     "text": [
      "Results: {'Tas': 0.0}\n",
      "Uploaded image shape: (278, 182, 3)\n"
     ]
    },
    {
     "name": "stderr",
     "output_type": "stream",
     "text": [
      "192.168.18.14 - - [02/Apr/2024 20:16:30] \"POST /compare HTTP/1.1\" 200 -\n"
     ]
    },
    {
     "name": "stdout",
     "output_type": "stream",
     "text": [
      "Results: {'Sweater': 0.0}\n",
      "Uploaded image shape: (225, 225, 3)\n"
     ]
    },
    {
     "name": "stderr",
     "output_type": "stream",
     "text": [
      "192.168.18.14 - - [02/Apr/2024 20:16:43] \"POST /compare HTTP/1.1\" 200 -\n"
     ]
    },
    {
     "name": "stdout",
     "output_type": "stream",
     "text": [
      "Results: {'Kaos Atas': 69871.11016296297, 'Celana Panjang': 39929.1665382716, 'Sweater': 90684.48175802469, 'Sandal': 37862.52312098765, 'Kemeja': 73361.49931851852, 'Sneaker': 37258.178271604935, 'Tas': 68486.0778271605}\n",
      "Uploaded image shape: (191, 264, 3)\n"
     ]
    },
    {
     "name": "stderr",
     "output_type": "stream",
     "text": [
      "192.168.18.14 - - [02/Apr/2024 20:16:55] \"POST /compare HTTP/1.1\" 200 -\n"
     ]
    },
    {
     "name": "stdout",
     "output_type": "stream",
     "text": [
      "Results: {'Sandal': 0.0}\n",
      "Uploaded image shape: (225, 225, 3)\n"
     ]
    },
    {
     "name": "stderr",
     "output_type": "stream",
     "text": [
      "192.168.18.14 - - [02/Apr/2024 20:17:09] \"POST /compare HTTP/1.1\" 200 -\n"
     ]
    },
    {
     "name": "stdout",
     "output_type": "stream",
     "text": [
      "Results: {'Kaos Atas': 53825.08491851852, 'Celana Panjang': 33358.54957037037, 'Sweater': 28665.620404938272, 'Sandal': 33039.775150617286, 'Kemeja': 16964.41929876543, 'Sneaker': 19389.9896691358, 'Tas': 21136.40655802469}\n",
      "Uploaded image shape: (225, 225, 3)\n"
     ]
    },
    {
     "name": "stderr",
     "output_type": "stream",
     "text": [
      "192.168.18.14 - - [02/Apr/2024 20:17:20] \"POST /compare HTTP/1.1\" 200 -\n"
     ]
    },
    {
     "name": "stdout",
     "output_type": "stream",
     "text": [
      "Results: {'Kaos Atas': 76731.45914074074, 'Celana Panjang': 67383.67895308642, 'Sweater': 59426.29345185185, 'Sandal': 61678.778350617285, 'Kemeja': 29812.11689876543, 'Sneaker': 29947.030755555556, 'Tas': 45483.23415308642}\n",
      "Uploaded image shape: (225, 225, 3)\n"
     ]
    },
    {
     "name": "stderr",
     "output_type": "stream",
     "text": [
      "192.168.18.14 - - [02/Apr/2024 20:17:30] \"POST /compare HTTP/1.1\" 200 -\n"
     ]
    },
    {
     "name": "stdout",
     "output_type": "stream",
     "text": [
      "Results: {'Kaos Atas': 48979.89398518518, 'Celana Panjang': 12718.259022222222, 'Sweater': 41240.86771358025, 'Sandal': 16191.446241975309, 'Kemeja': 36118.852543209876, 'Sneaker': 22108.841283950616, 'Tas': 31346.188069135802}\n",
      "Uploaded image shape: (1100, 762, 3)\n"
     ]
    },
    {
     "name": "stderr",
     "output_type": "stream",
     "text": [
      "192.168.18.14 - - [02/Apr/2024 20:17:41] \"POST /compare HTTP/1.1\" 200 -\n"
     ]
    },
    {
     "name": "stdout",
     "output_type": "stream",
     "text": [
      "Results: {'Tas': 0.0}\n"
     ]
    },
    {
     "name": "stderr",
     "output_type": "stream",
     "text": [
      "192.168.18.14 - - [02/Apr/2024 20:17:51] \"POST /compare HTTP/1.1\" 200 -\n"
     ]
    },
    {
     "name": "stdout",
     "output_type": "stream",
     "text": [
      "Uploaded image shape: (800, 800, 3)\n",
      "Results: {'Sweater': 28599.559334375}\n",
      "Uploaded image shape: (270, 187, 3)\n"
     ]
    },
    {
     "name": "stderr",
     "output_type": "stream",
     "text": [
      "192.168.18.14 - - [02/Apr/2024 20:18:13] \"POST /compare HTTP/1.1\" 200 -\n"
     ]
    },
    {
     "name": "stdout",
     "output_type": "stream",
     "text": [
      "Results: {'Celana Panjang': 46778.33662111309, 'Sweater': 35105.281164587046, 'Sneaker': 0.0, 'Tas': 18006.63479897009}\n",
      "Uploaded image shape: (225, 225, 3)\n"
     ]
    },
    {
     "name": "stderr",
     "output_type": "stream",
     "text": [
      "192.168.18.14 - - [02/Apr/2024 20:18:26] \"POST /compare HTTP/1.1\" 200 -\n"
     ]
    },
    {
     "name": "stdout",
     "output_type": "stream",
     "text": [
      "Results: {'Kaos Atas': 57009.44126419753, 'Celana Panjang': 47564.44483950617, 'Sweater': 19725.38510617284, 'Sandal': 46016.35367901235, 'Kemeja': 23072.152039506174, 'Sneaker': 40814.63081481482, 'Tas': 24851.253609876545}\n",
      "Uploaded image shape: (225, 225, 3)\n"
     ]
    },
    {
     "name": "stderr",
     "output_type": "stream",
     "text": [
      "192.168.18.14 - - [02/Apr/2024 20:18:34] \"POST /compare HTTP/1.1\" 200 -\n"
     ]
    },
    {
     "name": "stdout",
     "output_type": "stream",
     "text": [
      "Results: {'Kaos Atas': 54019.969086419755, 'Celana Panjang': 17207.39762962963, 'Sweater': 47808.61680987654, 'Sandal': 0.0, 'Kemeja': 40179.5703308642, 'Sneaker': 23314.84705185185, 'Tas': 38505.25303703704}\n",
      "Uploaded image shape: (700, 700, 3)\n"
     ]
    },
    {
     "name": "stderr",
     "output_type": "stream",
     "text": [
      "192.168.18.14 - - [02/Apr/2024 20:18:43] \"POST /compare HTTP/1.1\" 200 -\n"
     ]
    },
    {
     "name": "stdout",
     "output_type": "stream",
     "text": [
      "Results: {'Kaos Atas': 56934.922253061224, 'Kemeja': 50231.35198367347}\n",
      "Uploaded image shape: (225, 225, 3)\n"
     ]
    },
    {
     "name": "stderr",
     "output_type": "stream",
     "text": [
      "192.168.18.14 - - [02/Apr/2024 20:18:51] \"POST /compare HTTP/1.1\" 200 -\n"
     ]
    },
    {
     "name": "stdout",
     "output_type": "stream",
     "text": [
      "Results: {'Kaos Atas': 0.0, 'Celana Panjang': 54657.7604345679, 'Sweater': 59062.64582716049, 'Sandal': 54019.969086419755, 'Kemeja': 60354.290785185185, 'Sneaker': 45298.83972345679, 'Tas': 54247.67573333333}\n",
      "Uploaded image shape: (270, 187, 3)\n"
     ]
    },
    {
     "name": "stderr",
     "output_type": "stream",
     "text": [
      "192.168.18.14 - - [02/Apr/2024 20:19:03] \"POST /compare HTTP/1.1\" 200 -\n"
     ]
    },
    {
     "name": "stdout",
     "output_type": "stream",
     "text": [
      "Results: {'Celana Panjang': 0.0, 'Sweater': 34130.576114081996, 'Sneaker': 46778.33662111309, 'Tas': 32274.338779956426}\n",
      "Uploaded image shape: (1100, 762, 3)\n"
     ]
    },
    {
     "name": "stderr",
     "output_type": "stream",
     "text": [
      "192.168.18.14 - - [02/Apr/2024 20:19:27] \"POST /compare HTTP/1.1\" 200 -\n"
     ]
    },
    {
     "name": "stdout",
     "output_type": "stream",
     "text": [
      "Results: {'Tas': 0.0}\n",
      "Uploaded image shape: (700, 700, 3)\n"
     ]
    },
    {
     "name": "stderr",
     "output_type": "stream",
     "text": [
      "192.168.18.14 - - [02/Apr/2024 20:20:08] \"POST /compare HTTP/1.1\" 200 -\n"
     ]
    },
    {
     "name": "stdout",
     "output_type": "stream",
     "text": [
      "Results: {'Kaos Atas': 24541.19335510204, 'Kemeja': 0.0}\n",
      "Uploaded image shape: (700, 700, 3)\n"
     ]
    },
    {
     "name": "stderr",
     "output_type": "stream",
     "text": [
      "192.168.18.14 - - [02/Apr/2024 20:20:16] \"POST /compare HTTP/1.1\" 200 -\n"
     ]
    },
    {
     "name": "stdout",
     "output_type": "stream",
     "text": [
      "Results: {'Kaos Atas': 56934.922253061224, 'Kemeja': 50231.35198367347}\n",
      "Uploaded image shape: (1024, 1024, 3)\n"
     ]
    },
    {
     "name": "stderr",
     "output_type": "stream",
     "text": [
      "192.168.18.14 - - [02/Apr/2024 20:20:23] \"POST /compare HTTP/1.1\" 200 -\n"
     ]
    },
    {
     "name": "stdout",
     "output_type": "stream",
     "text": [
      "Results: {'Sweater': 23738.78751850128, 'Kemeja': 16480.46911716461}\n",
      "Uploaded image shape: (225, 225, 3)\n"
     ]
    },
    {
     "name": "stderr",
     "output_type": "stream",
     "text": [
      "192.168.18.14 - - [02/Apr/2024 20:20:30] \"POST /compare HTTP/1.1\" 200 -\n"
     ]
    },
    {
     "name": "stdout",
     "output_type": "stream",
     "text": [
      "Results: {'Kaos Atas': 53825.08491851852, 'Celana Panjang': 33358.54957037037, 'Sweater': 28665.620404938272, 'Sandal': 33039.775150617286, 'Kemeja': 16964.41929876543, 'Sneaker': 19389.9896691358, 'Tas': 21136.40655802469}\n",
      "Uploaded image shape: (225, 225, 3)\n"
     ]
    },
    {
     "name": "stderr",
     "output_type": "stream",
     "text": [
      "192.168.18.14 - - [02/Apr/2024 20:20:37] \"POST /compare HTTP/1.1\" 200 -\n"
     ]
    },
    {
     "name": "stdout",
     "output_type": "stream",
     "text": [
      "Results: {'Kaos Atas': 53782.83978271605, 'Celana Panjang': 39607.81131851852, 'Sweater': 28304.48353580247, 'Sandal': 40068.04154074074, 'Kemeja': 18924.71480493827, 'Sneaker': 26732.62797037037, 'Tas': 22774.139338271605}\n",
      "Uploaded image shape: (1024, 1024, 3)\n"
     ]
    },
    {
     "name": "stderr",
     "output_type": "stream",
     "text": [
      "192.168.18.14 - - [02/Apr/2024 20:20:46] \"POST /compare HTTP/1.1\" 200 -\n"
     ]
    },
    {
     "name": "stdout",
     "output_type": "stream",
     "text": [
      "Results: {'Sweater': 13933.057554244995, 'Kemeja': 0.0}\n",
      "Uploaded image shape: (225, 225, 3)\n"
     ]
    },
    {
     "name": "stderr",
     "output_type": "stream",
     "text": [
      "192.168.18.14 - - [02/Apr/2024 20:20:53] \"POST /compare HTTP/1.1\" 200 -\n"
     ]
    },
    {
     "name": "stdout",
     "output_type": "stream",
     "text": [
      "Results: {'Kaos Atas': 62117.39994074074, 'Celana Panjang': 41692.93242469136, 'Sweater': 23989.582874074073, 'Sandal': 42912.45485432099, 'Kemeja': 19885.585758024692, 'Sneaker': 29898.590083950618, 'Tas': 26666.214716049384}\n",
      "Uploaded image shape: (225, 225, 3)\n"
     ]
    },
    {
     "name": "stderr",
     "output_type": "stream",
     "text": [
      "192.168.18.14 - - [02/Apr/2024 20:21:01] \"POST /compare HTTP/1.1\" 200 -\n"
     ]
    },
    {
     "name": "stdout",
     "output_type": "stream",
     "text": [
      "Results: {'Kaos Atas': 59011.549313580246, 'Celana Panjang': 44837.366637037034, 'Sweater': 32980.12861234568, 'Sandal': 41965.11602962963, 'Kemeja': 15476.731120987653, 'Sneaker': 20928.46852345679, 'Tas': 24611.06267654321}\n",
      "Uploaded image shape: (225, 225, 3)\n"
     ]
    },
    {
     "name": "stderr",
     "output_type": "stream",
     "text": [
      "192.168.18.14 - - [02/Apr/2024 20:21:13] \"POST /compare HTTP/1.1\" 200 -\n"
     ]
    },
    {
     "name": "stdout",
     "output_type": "stream",
     "text": [
      "Results: {'Kaos Atas': 45862.67832098765, 'Celana Panjang': 22106.596424691357, 'Sweater': 30414.604701234566, 'Sandal': 21823.616849382717, 'Kemeja': 24511.839743209875, 'Sneaker': 17764.990992592593, 'Tas': 24037.021866666666}\n",
      "Uploaded image shape: (224, 225, 3)\n"
     ]
    },
    {
     "name": "stderr",
     "output_type": "stream",
     "text": [
      "192.168.18.14 - - [02/Apr/2024 20:21:21] \"POST /compare HTTP/1.1\" 200 -\n"
     ]
    },
    {
     "name": "stdout",
     "output_type": "stream",
     "text": [
      "Results: {'Kemeja': 0.0}\n",
      "Uploaded image shape: (225, 225, 3)\n"
     ]
    },
    {
     "name": "stderr",
     "output_type": "stream",
     "text": [
      "192.168.18.14 - - [02/Apr/2024 20:21:34] \"POST /compare HTTP/1.1\" 200 -\n"
     ]
    },
    {
     "name": "stdout",
     "output_type": "stream",
     "text": [
      "Results: {'Kaos Atas': 74510.72922469136, 'Celana Panjang': 52296.39097283951, 'Sweater': 23528.44270617284, 'Sandal': 48351.531338271605, 'Kemeja': 13543.53264197531, 'Sneaker': 40336.38933333333, 'Tas': 23566.331713580246}\n",
      "Uploaded image shape: (1024, 1024, 3)\n"
     ]
    },
    {
     "name": "stderr",
     "output_type": "stream",
     "text": [
      "192.168.18.14 - - [02/Apr/2024 20:21:45] \"POST /compare HTTP/1.1\" 200 -\n"
     ]
    },
    {
     "name": "stdout",
     "output_type": "stream",
     "text": [
      "Results: {'Sweater': 13933.057554244995, 'Kemeja': 0.0}\n",
      "Uploaded image shape: (1024, 1024, 3)\n"
     ]
    },
    {
     "name": "stderr",
     "output_type": "stream",
     "text": [
      "192.168.18.14 - - [02/Apr/2024 20:21:59] \"POST /compare HTTP/1.1\" 200 -\n"
     ]
    },
    {
     "name": "stdout",
     "output_type": "stream",
     "text": [
      "Results: {'Sweater': 13933.057554244995, 'Kemeja': 0.0}\n",
      "Uploaded image shape: (2721, 2721, 3)\n"
     ]
    },
    {
     "name": "stderr",
     "output_type": "stream",
     "text": [
      "192.168.18.14 - - [02/Apr/2024 20:22:08] \"POST /compare HTTP/1.1\" 200 -\n"
     ]
    },
    {
     "name": "stdout",
     "output_type": "stream",
     "text": [
      "Results: {'Kaos Atas': 0.0}\n",
      "Uploaded image shape: (225, 225, 3)\n"
     ]
    },
    {
     "name": "stderr",
     "output_type": "stream",
     "text": [
      "192.168.18.14 - - [02/Apr/2024 20:22:18] \"POST /compare HTTP/1.1\" 200 -\n"
     ]
    },
    {
     "name": "stdout",
     "output_type": "stream",
     "text": [
      "Results: {'Kaos Atas': 0.0, 'Celana Panjang': 54657.7604345679, 'Sweater': 59062.64582716049, 'Sandal': 54019.969086419755, 'Kemeja': 60354.290785185185, 'Sneaker': 45298.83972345679, 'Tas': 54247.67573333333}\n",
      "Uploaded image shape: (225, 225, 3)\n"
     ]
    },
    {
     "name": "stderr",
     "output_type": "stream",
     "text": [
      "192.168.18.14 - - [02/Apr/2024 20:22:25] \"POST /compare HTTP/1.1\" 200 -\n"
     ]
    },
    {
     "name": "stdout",
     "output_type": "stream",
     "text": [
      "Results: {'Kaos Atas': 54410.13355061728, 'Celana Panjang': 28467.653748148146, 'Sweater': 55222.6664691358, 'Sandal': 32834.9060345679, 'Kemeja': 51537.2338962963, 'Sneaker': 28997.15255308642, 'Tas': 47978.19138765432}\n",
      "Uploaded image shape: (225, 225, 3)\n"
     ]
    },
    {
     "name": "stderr",
     "output_type": "stream",
     "text": [
      "192.168.18.14 - - [02/Apr/2024 20:22:32] \"POST /compare HTTP/1.1\" 200 -\n"
     ]
    },
    {
     "name": "stdout",
     "output_type": "stream",
     "text": [
      "Results: {'Kaos Atas': 76731.45914074074, 'Celana Panjang': 67383.67895308642, 'Sweater': 59426.29345185185, 'Sandal': 61678.778350617285, 'Kemeja': 29812.11689876543, 'Sneaker': 29947.030755555556, 'Tas': 45483.23415308642}\n",
      "Uploaded image shape: (225, 225, 3)\n"
     ]
    },
    {
     "name": "stderr",
     "output_type": "stream",
     "text": [
      "192.168.18.14 - - [02/Apr/2024 20:22:38] \"POST /compare HTTP/1.1\" 200 -\n"
     ]
    },
    {
     "name": "stdout",
     "output_type": "stream",
     "text": [
      "Results: {'Kaos Atas': 58581.32762469136, 'Celana Panjang': 51610.90629135803, 'Sweater': 38734.78664691358, 'Sandal': 49897.412266666666, 'Kemeja': 26905.027832098767, 'Sneaker': 24935.205728395063, 'Tas': 33729.55968395062}\n",
      "Uploaded image shape: (225, 225, 3)\n"
     ]
    },
    {
     "name": "stderr",
     "output_type": "stream",
     "text": [
      "192.168.18.14 - - [02/Apr/2024 20:22:47] \"POST /compare HTTP/1.1\" 200 -\n"
     ]
    },
    {
     "name": "stdout",
     "output_type": "stream",
     "text": [
      "Results: {'Kaos Atas': 39563.6482962963, 'Celana Panjang': 28286.064296296296, 'Sweater': 30013.506449382716, 'Sandal': 33630.90338765432, 'Kemeja': 37269.72906666667, 'Sneaker': 33644.109866666666, 'Tas': 28391.040533333333}\n",
      "Uploaded image shape: (225, 225, 3)\n"
     ]
    },
    {
     "name": "stderr",
     "output_type": "stream",
     "text": [
      "192.168.18.14 - - [02/Apr/2024 20:22:54] \"POST /compare HTTP/1.1\" 200 -\n"
     ]
    },
    {
     "name": "stdout",
     "output_type": "stream",
     "text": [
      "Results: {'Kaos Atas': 57153.98257777778, 'Celana Panjang': 40178.636049382716, 'Sweater': 23041.866409876544, 'Sandal': 40770.96693333334, 'Kemeja': 9111.960355555555, 'Sneaker': 34322.717491358024, 'Tas': 15814.641896296296}\n",
      "Uploaded image shape: (225, 225, 3)\n"
     ]
    },
    {
     "name": "stderr",
     "output_type": "stream",
     "text": [
      "192.168.18.14 - - [02/Apr/2024 20:23:01] \"POST /compare HTTP/1.1\" 200 -\n"
     ]
    },
    {
     "name": "stdout",
     "output_type": "stream",
     "text": [
      "Results: {'Kaos Atas': 64635.03790617284, 'Celana Panjang': 41315.99521975309, 'Sweater': 25471.589708641975, 'Sandal': 44800.57491358025, 'Kemeja': 22613.995950617285, 'Sneaker': 47544.367348148146, 'Tas': 18749.998419753087}\n",
      "Uploaded image shape: (225, 225, 3)\n"
     ]
    },
    {
     "name": "stderr",
     "output_type": "stream",
     "text": [
      "192.168.18.14 - - [02/Apr/2024 20:23:08] \"POST /compare HTTP/1.1\" 200 -\n"
     ]
    },
    {
     "name": "stdout",
     "output_type": "stream",
     "text": [
      "Results: {'Kaos Atas': 37592.1284345679, 'Celana Panjang': 42190.92867160494, 'Sweater': 46042.7966617284, 'Sandal': 47367.10255802469, 'Kemeja': 50092.02403950617, 'Sneaker': 43506.90751604938, 'Tas': 45307.00084938272}\n",
      "Uploaded image shape: (700, 700, 3)\n"
     ]
    },
    {
     "name": "stderr",
     "output_type": "stream",
     "text": [
      "192.168.18.14 - - [02/Apr/2024 20:23:15] \"POST /compare HTTP/1.1\" 200 -\n"
     ]
    },
    {
     "name": "stdout",
     "output_type": "stream",
     "text": [
      "Results: {'Kaos Atas': 0.0, 'Kemeja': 24541.19335510204}\n",
      "Uploaded image shape: (700, 700, 3)\n"
     ]
    },
    {
     "name": "stderr",
     "output_type": "stream",
     "text": [
      "192.168.18.14 - - [02/Apr/2024 20:23:31] \"POST /compare HTTP/1.1\" 200 -\n"
     ]
    },
    {
     "name": "stdout",
     "output_type": "stream",
     "text": [
      "Results: {'Kaos Atas': 0.0, 'Kemeja': 24541.19335510204}\n",
      "Uploaded image shape: (225, 225, 3)\n"
     ]
    },
    {
     "name": "stderr",
     "output_type": "stream",
     "text": [
      "192.168.18.14 - - [02/Apr/2024 20:23:45] \"POST /compare HTTP/1.1\" 200 -\n"
     ]
    },
    {
     "name": "stdout",
     "output_type": "stream",
     "text": [
      "Results: {'Kaos Atas': 64635.03790617284, 'Celana Panjang': 41315.99521975309, 'Sweater': 25471.589708641975, 'Sandal': 44800.57491358025, 'Kemeja': 22613.995950617285, 'Sneaker': 47544.367348148146, 'Tas': 18749.998419753087}\n",
      "Uploaded image shape: (225, 225, 3)\n"
     ]
    },
    {
     "name": "stderr",
     "output_type": "stream",
     "text": [
      "192.168.18.14 - - [02/Apr/2024 20:23:56] \"POST /compare HTTP/1.1\" 200 -\n"
     ]
    },
    {
     "name": "stdout",
     "output_type": "stream",
     "text": [
      "Results: {'Kaos Atas': 0.0, 'Celana Panjang': 54657.7604345679, 'Sweater': 59062.64582716049, 'Sandal': 54019.969086419755, 'Kemeja': 60354.290785185185, 'Sneaker': 45298.83972345679, 'Tas': 54247.67573333333}\n",
      "Uploaded image shape: (270, 187, 3)\n"
     ]
    },
    {
     "name": "stderr",
     "output_type": "stream",
     "text": [
      "192.168.18.14 - - [02/Apr/2024 20:24:10] \"POST /compare HTTP/1.1\" 200 -\n"
     ]
    },
    {
     "name": "stdout",
     "output_type": "stream",
     "text": [
      "Results: {'Celana Panjang': 0.0, 'Sweater': 34130.576114081996, 'Sneaker': 46778.33662111309, 'Tas': 32274.338779956426}\n",
      "Uploaded image shape: (225, 225, 3)\n"
     ]
    },
    {
     "name": "stderr",
     "output_type": "stream",
     "text": [
      "192.168.18.14 - - [02/Apr/2024 20:24:17] \"POST /compare HTTP/1.1\" 200 -\n"
     ]
    },
    {
     "name": "stdout",
     "output_type": "stream",
     "text": [
      "Results: {'Kaos Atas': 49807.0945382716, 'Celana Panjang': 16634.410172839507, 'Sweater': 43808.893392592596, 'Sandal': 24072.121679012347, 'Kemeja': 38082.71458765432, 'Sneaker': 20690.881185185186, 'Tas': 32851.13700740741}\n",
      "Uploaded image shape: (225, 225, 3)\n"
     ]
    },
    {
     "name": "stderr",
     "output_type": "stream",
     "text": [
      "192.168.18.14 - - [02/Apr/2024 20:24:23] \"POST /compare HTTP/1.1\" 200 -\n"
     ]
    },
    {
     "name": "stdout",
     "output_type": "stream",
     "text": [
      "Results: {'Kaos Atas': 51605.72316049383, 'Celana Panjang': 19111.133728395063, 'Sweater': 66783.4276345679, 'Sandal': 24524.675990123458, 'Kemeja': 59682.55462716049, 'Sneaker': 31154.224079012347, 'Tas': 52846.72397037037}\n",
      "Uploaded image shape: (225, 225, 3)\n"
     ]
    },
    {
     "name": "stderr",
     "output_type": "stream",
     "text": [
      "192.168.18.14 - - [02/Apr/2024 20:24:30] \"POST /compare HTTP/1.1\" 200 -\n"
     ]
    },
    {
     "name": "stdout",
     "output_type": "stream",
     "text": [
      "Results: {'Kaos Atas': 46279.86382222222, 'Celana Panjang': 21507.252385185184, 'Sweater': 51128.672651851855, 'Sandal': 21688.86903703704, 'Kemeja': 30204.82565925926, 'Sneaker': 9390.033283950617, 'Tas': 34387.633856790126}\n",
      "Uploaded image shape: (270, 187, 3)\n"
     ]
    },
    {
     "name": "stderr",
     "output_type": "stream",
     "text": [
      "192.168.18.14 - - [02/Apr/2024 20:24:36] \"POST /compare HTTP/1.1\" 200 -\n"
     ]
    },
    {
     "name": "stdout",
     "output_type": "stream",
     "text": [
      "Results: {'Celana Panjang': 21307.38944345415, 'Sweater': 20551.10677361854, 'Sneaker': 34003.53216478511, 'Tas': 18597.989225589226}\n",
      "Uploaded image shape: (225, 225, 3)\n"
     ]
    },
    {
     "name": "stderr",
     "output_type": "stream",
     "text": [
      "192.168.18.14 - - [02/Apr/2024 20:24:43] \"POST /compare HTTP/1.1\" 200 -\n"
     ]
    },
    {
     "name": "stdout",
     "output_type": "stream",
     "text": [
      "Results: {'Kaos Atas': 54657.7604345679, 'Celana Panjang': 0.0, 'Sweater': 47528.7687308642, 'Sandal': 17207.39762962963, 'Kemeja': 42284.800849382715, 'Sneaker': 24328.22168888889, 'Tas': 36157.34115555556}\n",
      "Uploaded image shape: (225, 225, 3)\n"
     ]
    },
    {
     "name": "stderr",
     "output_type": "stream",
     "text": [
      "192.168.18.14 - - [02/Apr/2024 20:24:49] \"POST /compare HTTP/1.1\" 200 -\n"
     ]
    },
    {
     "name": "stdout",
     "output_type": "stream",
     "text": [
      "Results: {'Kaos Atas': 48979.89398518518, 'Celana Panjang': 12718.259022222222, 'Sweater': 41240.86771358025, 'Sandal': 16191.446241975309, 'Kemeja': 36118.852543209876, 'Sneaker': 22108.841283950616, 'Tas': 31346.188069135802}\n",
      "Uploaded image shape: (225, 225, 3)\n"
     ]
    },
    {
     "name": "stderr",
     "output_type": "stream",
     "text": [
      "192.168.18.14 - - [02/Apr/2024 20:24:56] \"POST /compare HTTP/1.1\" 200 -\n"
     ]
    },
    {
     "name": "stdout",
     "output_type": "stream",
     "text": [
      "Results: {'Kaos Atas': 45693.99259259259, 'Celana Panjang': 40782.15314567901, 'Sweater': 37056.432592592595, 'Sandal': 41607.88871111111, 'Kemeja': 27246.164385185184, 'Sneaker': 27284.02769382716, 'Tas': 27163.33303703704}\n",
      "Uploaded image shape: (225, 225, 3)\n"
     ]
    },
    {
     "name": "stderr",
     "output_type": "stream",
     "text": [
      "192.168.18.14 - - [02/Apr/2024 20:25:04] \"POST /compare HTTP/1.1\" 200 -\n"
     ]
    },
    {
     "name": "stdout",
     "output_type": "stream",
     "text": [
      "Results: {'Kaos Atas': 54019.969086419755, 'Celana Panjang': 17207.39762962963, 'Sweater': 47808.61680987654, 'Sandal': 0.0, 'Kemeja': 40179.5703308642, 'Sneaker': 23314.84705185185, 'Tas': 38505.25303703704}\n",
      "Uploaded image shape: (225, 225, 3)\n"
     ]
    },
    {
     "name": "stderr",
     "output_type": "stream",
     "text": [
      "192.168.18.14 - - [02/Apr/2024 20:25:10] \"POST /compare HTTP/1.1\" 200 -\n"
     ]
    },
    {
     "name": "stdout",
     "output_type": "stream",
     "text": [
      "Results: {'Kaos Atas': 57009.44126419753, 'Celana Panjang': 47564.44483950617, 'Sweater': 19725.38510617284, 'Sandal': 46016.35367901235, 'Kemeja': 23072.152039506174, 'Sneaker': 40814.63081481482, 'Tas': 24851.253609876545}\n",
      "Uploaded image shape: (191, 264, 3)\n"
     ]
    },
    {
     "name": "stderr",
     "output_type": "stream",
     "text": [
      "192.168.18.14 - - [02/Apr/2024 20:25:18] \"POST /compare HTTP/1.1\" 200 -\n"
     ]
    },
    {
     "name": "stdout",
     "output_type": "stream",
     "text": [
      "Results: {'Sandal': 0.0}\n",
      "Uploaded image shape: (225, 225, 3)\n"
     ]
    },
    {
     "name": "stderr",
     "output_type": "stream",
     "text": [
      "192.168.18.14 - - [02/Apr/2024 20:25:25] \"POST /compare HTTP/1.1\" 200 -\n"
     ]
    },
    {
     "name": "stdout",
     "output_type": "stream",
     "text": [
      "Results: {'Kaos Atas': 59330.810330864195, 'Celana Panjang': 46033.11381728395, 'Sweater': 29752.395456790124, 'Sandal': 45084.77175308642, 'Kemeja': 23761.007328395062, 'Sneaker': 32442.618745679014, 'Tas': 23648.921975308644}\n",
      "Uploaded image shape: (225, 225, 3)\n"
     ]
    },
    {
     "name": "stderr",
     "output_type": "stream",
     "text": [
      "192.168.18.14 - - [02/Apr/2024 20:25:35] \"POST /compare HTTP/1.1\" 200 -\n"
     ]
    },
    {
     "name": "stdout",
     "output_type": "stream",
     "text": [
      "Results: {'Kaos Atas': 67519.86251851852, 'Celana Panjang': 64785.4916345679, 'Sweater': 42165.989274074076, 'Sandal': 62294.38915555555, 'Kemeja': 29367.977461728395, 'Sneaker': 35221.33777777778, 'Tas': 40355.33507160494}\n",
      "Uploaded image shape: (223, 226, 3)\n"
     ]
    },
    {
     "name": "stderr",
     "output_type": "stream",
     "text": [
      "192.168.18.14 - - [02/Apr/2024 20:25:42] \"POST /compare HTTP/1.1\" 200 -\n"
     ]
    },
    {
     "name": "stdout",
     "output_type": "stream",
     "text": [
      "Results: {'Sandal': 0.0}\n",
      "Uploaded image shape: (225, 225, 3)\n"
     ]
    },
    {
     "name": "stderr",
     "output_type": "stream",
     "text": [
      "192.168.18.14 - - [02/Apr/2024 20:25:48] \"POST /compare HTTP/1.1\" 200 -\n"
     ]
    },
    {
     "name": "stdout",
     "output_type": "stream",
     "text": [
      "Results: {'Kaos Atas': 62736.94421728395, 'Celana Panjang': 58718.33404444445, 'Sweater': 29210.023861728394, 'Sandal': 57131.23448888889, 'Kemeja': 32708.02168888889, 'Sneaker': 39160.533056790126, 'Tas': 36692.13185185185}\n",
      "Uploaded image shape: (191, 264, 3)\n"
     ]
    },
    {
     "name": "stderr",
     "output_type": "stream",
     "text": [
      "192.168.18.14 - - [02/Apr/2024 20:25:55] \"POST /compare HTTP/1.1\" 200 -\n"
     ]
    },
    {
     "name": "stdout",
     "output_type": "stream",
     "text": [
      "Results: {'Sandal': 0.0}\n",
      "Uploaded image shape: (270, 187, 3)\n"
     ]
    },
    {
     "name": "stderr",
     "output_type": "stream",
     "text": [
      "192.168.18.14 - - [02/Apr/2024 20:26:03] \"POST /compare HTTP/1.1\" 200 -\n"
     ]
    },
    {
     "name": "stdout",
     "output_type": "stream",
     "text": [
      "Results: {'Celana Panjang': 46778.33662111309, 'Sweater': 35105.281164587046, 'Sneaker': 0.0, 'Tas': 18006.63479897009}\n",
      "Uploaded image shape: (225, 225, 3)\n"
     ]
    },
    {
     "name": "stderr",
     "output_type": "stream",
     "text": [
      "192.168.18.14 - - [02/Apr/2024 20:26:09] \"POST /compare HTTP/1.1\" 200 -\n"
     ]
    },
    {
     "name": "stdout",
     "output_type": "stream",
     "text": [
      "Results: {'Kaos Atas': 69871.11016296297, 'Celana Panjang': 39929.1665382716, 'Sweater': 90684.48175802469, 'Sandal': 37862.52312098765, 'Kemeja': 73361.49931851852, 'Sneaker': 37258.178271604935, 'Tas': 68486.0778271605}\n",
      "Uploaded image shape: (225, 225, 3)\n"
     ]
    },
    {
     "name": "stderr",
     "output_type": "stream",
     "text": [
      "192.168.18.14 - - [02/Apr/2024 20:26:15] \"POST /compare HTTP/1.1\" 200 -\n"
     ]
    },
    {
     "name": "stdout",
     "output_type": "stream",
     "text": [
      "Results: {'Kaos Atas': 58307.244543209876, 'Celana Panjang': 25085.892404938273, 'Sweater': 32995.3160691358, 'Sandal': 23449.69185185185, 'Kemeja': 36314.38273580247, 'Sneaker': 34752.37029135803, 'Tas': 31285.768750617284}\n",
      "Uploaded image shape: (225, 225, 3)\n"
     ]
    },
    {
     "name": "stderr",
     "output_type": "stream",
     "text": [
      "192.168.18.14 - - [02/Apr/2024 20:26:22] \"POST /compare HTTP/1.1\" 200 -\n"
     ]
    },
    {
     "name": "stdout",
     "output_type": "stream",
     "text": [
      "Results: {'Kaos Atas': 55205.00667654321, 'Celana Panjang': 38449.64521481482, 'Sweater': 50541.146943209875, 'Sandal': 34522.452543209874, 'Kemeja': 29914.80264691358, 'Sneaker': 13996.264651851852, 'Tas': 37893.10251851852}\n",
      "Uploaded image shape: (225, 225, 3)\n"
     ]
    },
    {
     "name": "stderr",
     "output_type": "stream",
     "text": [
      "192.168.18.14 - - [02/Apr/2024 20:26:29] \"POST /compare HTTP/1.1\" 200 -\n"
     ]
    },
    {
     "name": "stdout",
     "output_type": "stream",
     "text": [
      "Results: {'Kaos Atas': 50478.18921481482, 'Celana Panjang': 15495.75282962963, 'Sweater': 50205.89550617284, 'Sandal': 20038.297086419752, 'Kemeja': 48531.49108148148, 'Sneaker': 25169.0116345679, 'Tas': 41290.338903703705}\n",
      "Uploaded image shape: (225, 225, 3)\n"
     ]
    },
    {
     "name": "stderr",
     "output_type": "stream",
     "text": [
      "192.168.18.14 - - [02/Apr/2024 20:26:35] \"POST /compare HTTP/1.1\" 200 -\n"
     ]
    },
    {
     "name": "stdout",
     "output_type": "stream",
     "text": [
      "Results: {'Kaos Atas': 45298.83972345679, 'Celana Panjang': 24328.22168888889, 'Sweater': 46489.69809382716, 'Sandal': 23314.84705185185, 'Kemeja': 30541.95298765432, 'Sneaker': 0.0, 'Tas': 34386.86046419753}\n",
      "Uploaded image shape: (225, 225, 3)\n"
     ]
    },
    {
     "name": "stderr",
     "output_type": "stream",
     "text": [
      "192.168.18.14 - - [02/Apr/2024 20:26:42] \"POST /compare HTTP/1.1\" 200 -\n"
     ]
    },
    {
     "name": "stdout",
     "output_type": "stream",
     "text": [
      "Results: {'Kaos Atas': 67462.02107654321, 'Celana Panjang': 64930.59830123457, 'Sweater': 49210.1915654321, 'Sandal': 57617.35340246913, 'Kemeja': 34304.85534814815, 'Sneaker': 29092.149925925925, 'Tas': 44752.91304691358}\n",
      "Uploaded image shape: (225, 225, 3)\n"
     ]
    },
    {
     "name": "stderr",
     "output_type": "stream",
     "text": [
      "192.168.18.14 - - [02/Apr/2024 20:26:49] \"POST /compare HTTP/1.1\" 200 -\n"
     ]
    },
    {
     "name": "stdout",
     "output_type": "stream",
     "text": [
      "Results: {'Kaos Atas': 60973.57898271605, 'Celana Panjang': 57493.24124444444, 'Sweater': 37246.77315555556, 'Sandal': 54681.23834074074, 'Kemeja': 27887.14621234568, 'Sneaker': 28718.23239506173, 'Tas': 35976.138113580244}\n"
     ]
    },
    {
     "name": "stderr",
     "output_type": "stream",
     "text": [
      "192.168.18.14 - - [02/Apr/2024 20:26:57] \"POST /compare HTTP/1.1\" 200 -\n"
     ]
    },
    {
     "name": "stdout",
     "output_type": "stream",
     "text": [
      "Uploaded image shape: (800, 800, 3)\n",
      "Results: {'Sweater': 43812.331146875}\n"
     ]
    },
    {
     "name": "stderr",
     "output_type": "stream",
     "text": [
      "192.168.18.14 - - [02/Apr/2024 20:27:03] \"POST /compare HTTP/1.1\" 200 -\n"
     ]
    },
    {
     "name": "stdout",
     "output_type": "stream",
     "text": [
      "Uploaded image shape: (800, 800, 3)\n",
      "Results: {'Sweater': 28599.559334375}\n",
      "Uploaded image shape: (278, 182, 3)\n"
     ]
    },
    {
     "name": "stderr",
     "output_type": "stream",
     "text": [
      "192.168.18.14 - - [02/Apr/2024 20:27:10] \"POST /compare HTTP/1.1\" 200 -\n"
     ]
    },
    {
     "name": "stdout",
     "output_type": "stream",
     "text": [
      "Results: {'Sweater': 0.0}\n",
      "Uploaded image shape: (225, 225, 3)\n"
     ]
    },
    {
     "name": "stderr",
     "output_type": "stream",
     "text": [
      "192.168.18.14 - - [02/Apr/2024 20:27:18] \"POST /compare HTTP/1.1\" 200 -\n"
     ]
    },
    {
     "name": "stdout",
     "output_type": "stream",
     "text": [
      "Results: {'Kaos Atas': 59062.64582716049, 'Celana Panjang': 47528.7687308642, 'Sweater': 0.0, 'Sandal': 47808.61680987654, 'Kemeja': 28676.99855802469, 'Sneaker': 46489.69809382716, 'Tas': 28088.61947654321}\n",
      "Uploaded image shape: (270, 187, 3)\n"
     ]
    },
    {
     "name": "stderr",
     "output_type": "stream",
     "text": [
      "192.168.18.14 - - [02/Apr/2024 20:27:25] \"POST /compare HTTP/1.1\" 200 -\n"
     ]
    },
    {
     "name": "stdout",
     "output_type": "stream",
     "text": [
      "Results: {'Celana Panjang': 34130.576114081996, 'Sweater': 0.0, 'Sneaker': 35105.281164587046, 'Tas': 20849.998514557337}\n"
     ]
    },
    {
     "name": "stderr",
     "output_type": "stream",
     "text": [
      "192.168.18.14 - - [02/Apr/2024 20:27:33] \"POST /compare HTTP/1.1\" 200 -\n"
     ]
    },
    {
     "name": "stdout",
     "output_type": "stream",
     "text": [
      "Uploaded image shape: (800, 800, 3)\n",
      "Results: {'Sweater': 2679.396765625}\n"
     ]
    },
    {
     "name": "stderr",
     "output_type": "stream",
     "text": [
      "192.168.18.14 - - [02/Apr/2024 20:27:41] \"POST /compare HTTP/1.1\" 200 -\n"
     ]
    },
    {
     "name": "stdout",
     "output_type": "stream",
     "text": [
      "Uploaded image shape: (800, 800, 3)\n",
      "Results: {'Sweater': 0.0}\n"
     ]
    },
    {
     "name": "stderr",
     "output_type": "stream",
     "text": [
      "192.168.18.14 - - [02/Apr/2024 20:27:49] \"POST /compare HTTP/1.1\" 200 -\n"
     ]
    },
    {
     "name": "stdout",
     "output_type": "stream",
     "text": [
      "Uploaded image shape: (800, 800, 3)\n",
      "Results: {'Sweater': 97309.389309375}\n"
     ]
    },
    {
     "name": "stderr",
     "output_type": "stream",
     "text": [
      "192.168.18.14 - - [02/Apr/2024 20:27:56] \"POST /compare HTTP/1.1\" 200 -\n"
     ]
    },
    {
     "name": "stdout",
     "output_type": "stream",
     "text": [
      "Uploaded image shape: (800, 800, 3)\n",
      "Results: {'Sweater': 21126.4182765625}\n",
      "Uploaded image shape: (3000, 3000, 3)\n"
     ]
    },
    {
     "name": "stderr",
     "output_type": "stream",
     "text": [
      "192.168.18.14 - - [02/Apr/2024 20:28:04] \"POST /compare HTTP/1.1\" 200 -\n"
     ]
    },
    {
     "name": "stdout",
     "output_type": "stream",
     "text": [
      "Results: {'Sweater': 0.0}\n",
      "Uploaded image shape: (1024, 1024, 3)\n"
     ]
    },
    {
     "name": "stderr",
     "output_type": "stream",
     "text": [
      "192.168.18.14 - - [02/Apr/2024 20:28:10] \"POST /compare HTTP/1.1\" 200 -\n"
     ]
    },
    {
     "name": "stdout",
     "output_type": "stream",
     "text": [
      "Results: {'Sweater': 0.0, 'Kemeja': 13933.057554244995}\n",
      "Uploaded image shape: (810, 790, 3)\n"
     ]
    },
    {
     "name": "stderr",
     "output_type": "stream",
     "text": [
      "192.168.18.14 - - [02/Apr/2024 20:28:25] \"POST /compare HTTP/1.1\" 200 -\n"
     ]
    },
    {
     "name": "stdout",
     "output_type": "stream",
     "text": [
      "Results: {'Tas': 0.0}\n",
      "Uploaded image shape: (225, 225, 3)\n"
     ]
    },
    {
     "name": "stderr",
     "output_type": "stream",
     "text": [
      "192.168.18.14 - - [02/Apr/2024 20:28:32] \"POST /compare HTTP/1.1\" 200 -\n"
     ]
    },
    {
     "name": "stdout",
     "output_type": "stream",
     "text": [
      "Results: {'Kaos Atas': 42676.22816790124, 'Celana Panjang': 36291.01706666667, 'Sweater': 47533.35909135803, 'Sandal': 35114.822202469135, 'Kemeja': 45418.958735802466, 'Sneaker': 26027.04015802469, 'Tas': 45947.80805925926}\n",
      "Uploaded image shape: (224, 224, 3)\n"
     ]
    },
    {
     "name": "stderr",
     "output_type": "stream",
     "text": [
      "192.168.18.14 - - [02/Apr/2024 20:28:39] \"POST /compare HTTP/1.1\" 200 -\n"
     ]
    },
    {
     "name": "stdout",
     "output_type": "stream",
     "text": [
      "Results: {'Tas': 0.0}\n",
      "Uploaded image shape: (270, 187, 3)\n"
     ]
    },
    {
     "name": "stderr",
     "output_type": "stream",
     "text": [
      "192.168.18.14 - - [02/Apr/2024 20:28:45] \"POST /compare HTTP/1.1\" 200 -\n"
     ]
    },
    {
     "name": "stdout",
     "output_type": "stream",
     "text": [
      "Results: {'Celana Panjang': 32274.338779956426, 'Sweater': 20849.998514557337, 'Sneaker': 18006.63479897009, 'Tas': 0.0}\n",
      "Uploaded image shape: (225, 225, 3)\n"
     ]
    },
    {
     "name": "stderr",
     "output_type": "stream",
     "text": [
      "192.168.18.14 - - [02/Apr/2024 20:28:52] \"POST /compare HTTP/1.1\" 200 -\n"
     ]
    },
    {
     "name": "stdout",
     "output_type": "stream",
     "text": [
      "Results: {'Kaos Atas': 48832.14518518518, 'Celana Panjang': 43428.31292839506, 'Sweater': 31662.97009382716, 'Sandal': 40304.52395061729, 'Kemeja': 19565.053056790122, 'Sneaker': 33687.668404938275, 'Tas': 24392.855466666668}\n",
      "Uploaded image shape: (225, 224, 3)\n"
     ]
    },
    {
     "name": "stderr",
     "output_type": "stream",
     "text": [
      "192.168.18.14 - - [02/Apr/2024 20:28:59] \"POST /compare HTTP/1.1\" 200 -\n"
     ]
    },
    {
     "name": "stdout",
     "output_type": "stream",
     "text": [
      "Results: {'Tas': 0.0}\n",
      "Uploaded image shape: (225, 225, 3)\n"
     ]
    },
    {
     "name": "stderr",
     "output_type": "stream",
     "text": [
      "192.168.18.14 - - [02/Apr/2024 20:29:06] \"POST /compare HTTP/1.1\" 200 -\n"
     ]
    },
    {
     "name": "stdout",
     "output_type": "stream",
     "text": [
      "Results: {'Kaos Atas': 70003.54352592592, 'Celana Panjang': 57981.079367901235, 'Sweater': 30422.69285925926, 'Sandal': 52548.72268641975, 'Kemeja': 21206.947120987654, 'Sneaker': 32038.039032098764, 'Tas': 29409.22605432099}\n",
      "Uploaded image shape: (225, 225, 3)\n"
     ]
    },
    {
     "name": "stderr",
     "output_type": "stream",
     "text": [
      "192.168.18.14 - - [02/Apr/2024 20:29:14] \"POST /compare HTTP/1.1\" 200 -\n"
     ]
    },
    {
     "name": "stdout",
     "output_type": "stream",
     "text": [
      "Results: {'Kaos Atas': 46670.1911308642, 'Celana Panjang': 35736.84329876543, 'Sweater': 31667.426113580248, 'Sandal': 33049.61728395062, 'Kemeja': 19328.66802962963, 'Sneaker': 18469.3872, 'Tas': 24962.46245925926}\n",
      "Uploaded image shape: (225, 225, 3)\n"
     ]
    },
    {
     "name": "stderr",
     "output_type": "stream",
     "text": [
      "192.168.18.14 - - [02/Apr/2024 20:29:20] \"POST /compare HTTP/1.1\" 200 -\n"
     ]
    },
    {
     "name": "stdout",
     "output_type": "stream",
     "text": [
      "Results: {'Kaos Atas': 54038.100365432096, 'Celana Panjang': 45881.35065679012, 'Sweater': 38642.015841975306, 'Sandal': 42222.72351604938, 'Kemeja': 22933.7000691358, 'Sneaker': 21446.486874074075, 'Tas': 30738.875516049382}\n",
      "Uploaded image shape: (225, 225, 3)\n"
     ]
    },
    {
     "name": "stderr",
     "output_type": "stream",
     "text": [
      "192.168.18.14 - - [02/Apr/2024 20:29:27] \"POST /compare HTTP/1.1\" 200 -\n"
     ]
    },
    {
     "name": "stdout",
     "output_type": "stream",
     "text": [
      "Results: {'Kaos Atas': 54247.67573333333, 'Celana Panjang': 36157.34115555556, 'Sweater': 28088.61947654321, 'Sandal': 38505.25303703704, 'Kemeja': 14076.686202469136, 'Sneaker': 34386.86046419753, 'Tas': 0.0}\n",
      "Uploaded image shape: (1100, 762, 3)\n"
     ]
    },
    {
     "name": "stderr",
     "output_type": "stream",
     "text": [
      "192.168.18.14 - - [02/Apr/2024 20:29:34] \"POST /compare HTTP/1.1\" 200 -\n"
     ]
    },
    {
     "name": "stdout",
     "output_type": "stream",
     "text": [
      "Results: {'Tas': 0.0}\n"
     ]
    },
    {
     "name": "stderr",
     "output_type": "stream",
     "text": [
      "192.168.18.14 - - [02/Apr/2024 20:29:40] \"\u001b[31m\u001b[1mPOST /compare HTTP/1.1\u001b[0m\" 400 -\n",
      "192.168.18.14 - - [02/Apr/2024 20:29:40] \"\u001b[31m\u001b[1mPOST /compare HTTP/1.1\u001b[0m\" 400 -\n"
     ]
    }
   ],
   "source": [
    "import cv2\n",
    "import os\n",
    "from flask import Flask, request, jsonify\n",
    "import numpy as np\n",
    "import io\n",
    "\n",
    "app = Flask(__name__)\n",
    "\n",
    "def mse(image1, image2):\n",
    "    err = np.sum((image1.astype(\"float\") - image2.astype(\"float\")) ** 2)\n",
    "    err /= float(image1.shape[0] * image1.shape[1])\n",
    "    return err\n",
    "\n",
    "@app.route('/compare', methods=['POST'])\n",
    "def compare():\n",
    "    # Save the uploaded image to a temporary directory\n",
    "    uploaded_image = request.files['img'].read()\n",
    "    uploaded_image = cv2.imdecode(np.frombuffer(uploaded_image, np.uint8), cv2.IMREAD_COLOR)\n",
    "\n",
    "    print(f\"Uploaded image shape: {uploaded_image.shape}\")\n",
    "    \n",
    "    # List folders in 'dummy'\n",
    "    dummy_folders = [\"Kaos Atas\", \"Celana Panjang\", \"Sweater\", \"Sandal\", \"Kemeja\", \"Sneaker\", \"Tas\"]\n",
    "    \n",
    "    # Compare images\n",
    "    results = {}\n",
    "    for folder in dummy_folders:\n",
    "        folder_path = os.path.join('dummy', folder)\n",
    "        for filename in os.listdir(folder_path):\n",
    "            image1_path = os.path.join(folder_path, filename)\n",
    "            img1 = cv2.imread(image1_path)\n",
    "            \n",
    "            if img1 is None:\n",
    "                continue\n",
    "            # Check if the shapes of the images are the same\n",
    "            if img1.shape == uploaded_image.shape:\n",
    "                similarity = mse(img1, uploaded_image)\n",
    "                results[folder] = similarity\n",
    "                break  # Break the loop if a matching image is found\n",
    "\n",
    "    print(f\"Results: {results}\")\n",
    "    \n",
    "    if results:\n",
    "        # Get the most similar folder based on the MSE comparison\n",
    "        most_similar_folder = min(results, key=results.get)\n",
    "        min_mse = results[most_similar_folder]\n",
    "        \n",
    "        if min_mse < 1000:  # Adjust this threshold as needed\n",
    "            return jsonify({\"result\": most_similar_folder})\n",
    "    return jsonify({\"result\": \"Tidak ada gambar yang sama.\"})\n",
    "\n",
    "if __name__ == \"__main__\":\n",
    "    app.run(host='0.0.0.0', port=5002)\n"
   ]
  }
 ],
 "metadata": {
  "kernelspec": {
   "display_name": "Python 3",
   "language": "python",
   "name": "python3"
  },
  "language_info": {
   "codemirror_mode": {
    "name": "ipython",
    "version": 3
   },
   "file_extension": ".py",
   "mimetype": "text/x-python",
   "name": "python",
   "nbconvert_exporter": "python",
   "pygments_lexer": "ipython3",
   "version": "3.9.6"
  }
 },
 "nbformat": 4,
 "nbformat_minor": 2
}
