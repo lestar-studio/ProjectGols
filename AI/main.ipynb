{
 "cells": [
  {
   "cell_type": "code",
   "execution_count": 3,
   "metadata": {},
   "outputs": [
    {
     "name": "stderr",
     "output_type": "stream",
     "text": [
      "WARNING:absl:At this time, the v2.11+ optimizer `tf.keras.optimizers.Adam` runs slowly on M1/M2 Macs, please use the legacy Keras optimizer instead, located at `tf.keras.optimizers.legacy.Adam`.\n"
     ]
    },
    {
     "name": "stdout",
     "output_type": "stream",
     "text": [
      " * Serving Flask app '__main__'\n",
      " * Debug mode: off\n"
     ]
    },
    {
     "name": "stderr",
     "output_type": "stream",
     "text": [
      "INFO:werkzeug:\u001b[31m\u001b[1mWARNING: This is a development server. Do not use it in a production deployment. Use a production WSGI server instead.\u001b[0m\n",
      " * Running on all addresses (0.0.0.0)\n",
      " * Running on http://127.0.0.1:5001\n",
      " * Running on http://192.168.18.14:5001\n",
      "INFO:werkzeug:\u001b[33mPress CTRL+C to quit\u001b[0m\n",
      "INFO:werkzeug:192.168.18.14 - - [03/Mar/2024 21:26:18] \"GET / HTTP/1.1\" 200 -\n",
      "INFO:werkzeug:192.168.18.14 - - [03/Mar/2024 21:26:19] \"\u001b[33mGET /favicon.ico HTTP/1.1\u001b[0m\" 404 -\n",
      "INFO:werkzeug:192.168.18.14 - - [03/Mar/2024 21:28:10] \"\u001b[31m\u001b[1mGET /predict HTTP/1.1\u001b[0m\" 405 -\n",
      "INFO:werkzeug:192.168.18.14 - - [03/Mar/2024 21:28:43] \"POST /predict HTTP/1.1\" 200 -\n"
     ]
    }
   ],
   "source": [
    "from flask import Flask, request, jsonify\n",
    "import cv2\n",
    "import numpy as np\n",
    "from tensorflow.keras.preprocessing import image\n",
    "from tensorflow.keras.models import load_model\n",
    "\n",
    "app = Flask(__name__)\n",
    "\n",
    "@app.route('/')\n",
    "def index():\n",
    "    return \"Your Flask Python is Running...\"\n",
    "\n",
    "# Load the trained model\n",
    "model = load_model('Dataset/fashion_mnist_model_improved.h5')\n",
    "\n",
    "# Define list of class labels\n",
    "class_labels = [\"Kaos Atas\", \"Celana Panjang\", \"Sweater\", \"Gaun\", \"Mantel\",\n",
    "                \"Sandal\", \"Kemeja\", \"Sneaker\", \"Tas\", \"Sepatu Boot\"]\n",
    "\n",
    "def remove_background(image):\n",
    "    # Convert image to grayscale\n",
    "    gray = cv2.cvtColor(image, cv2.COLOR_BGR2GRAY)\n",
    "\n",
    "    # Apply Gaussian blur to reduce noise\n",
    "    blurred = cv2.GaussianBlur(gray, (5, 5), 0)\n",
    "\n",
    "    # Perform edge detection\n",
    "    edges = cv2.Canny(blurred, 50, 150)\n",
    "\n",
    "    # Find contours in the edge-detected image\n",
    "    contours, _ = cv2.findContours(edges.copy(), cv2.RETR_EXTERNAL, cv2.CHAIN_APPROX_SIMPLE)\n",
    "\n",
    "    # Create a mask for the background\n",
    "    mask = np.zeros_like(gray)\n",
    "\n",
    "    # Fill the contours of the background with white color\n",
    "    cv2.drawContours(mask, contours, -1, (255, 255, 255), thickness=cv2.FILLED)\n",
    "\n",
    "    # Invert the mask\n",
    "    mask = cv2.bitwise_not(mask)\n",
    "\n",
    "    # Apply the mask to the original image\n",
    "    result = cv2.bitwise_and(image, image, mask=mask)\n",
    "\n",
    "    return result\n",
    "\n",
    "def predict_class(image):\n",
    "    # Remove background from the image\n",
    "    processed_image = remove_background(image)\n",
    "    \n",
    "    # Resize image to match model input shape\n",
    "    processed_image = cv2.resize(processed_image, (28, 28))\n",
    "    \n",
    "    # Convert image to grayscale\n",
    "    processed_image = cv2.cvtColor(processed_image, cv2.COLOR_BGR2GRAY)\n",
    "    \n",
    "    # Convert image to array and normalize\n",
    "    processed_image = processed_image.astype('float32') / 255.0\n",
    "    \n",
    "    # Expand dimensions to match model input shape\n",
    "    processed_image = np.expand_dims(processed_image, axis=0)\n",
    "    processed_image = np.expand_dims(processed_image, axis=3)\n",
    "    \n",
    "    # Make prediction using the model\n",
    "    prediction = model.predict(processed_image)\n",
    "    predicted_class_index = np.argmax(prediction)\n",
    "    predicted_class_label = class_labels[predicted_class_index]\n",
    "\n",
    "    return predicted_class_label\n",
    "\n",
    "@app.route('/predict', methods=['POST'])\n",
    "def predict_from_image():\n",
    "    return jsonify({'error': 'No file part'})\n",
    "    # if 'file' not in request.files:\n",
    "    #     return jsonify({'error': 'No file part'})\n",
    "    # file = request.files['file']\n",
    "    # if file.filename == '':\n",
    "    #     return jsonify({'error': 'No file selected'})\n",
    "    # if file:\n",
    "    #     # Menerima gambar dari request\n",
    "    #     file = request.files['file']\n",
    "    #     nparr = np.frombuffer(file.read(), np.uint8)\n",
    "    #     image = cv2.imdecode(nparr, cv2.IMREAD_COLOR)\n",
    "\n",
    "    #     # Melakukan prediksi kelas\n",
    "    #     predicted_class = predict_class(image)\n",
    "        \n",
    "    #     return jsonify({'predicted_class': predicted_class})\n",
    "\n",
    "if __name__ == '__main__':\n",
    "    app.run(host='0.0.0.0', port=5001)"
   ]
  }
 ],
 "metadata": {
  "kernelspec": {
   "display_name": "Python 3",
   "language": "python",
   "name": "python3"
  },
  "language_info": {
   "codemirror_mode": {
    "name": "ipython",
    "version": 3
   },
   "file_extension": ".py",
   "mimetype": "text/x-python",
   "name": "python",
   "nbconvert_exporter": "python",
   "pygments_lexer": "ipython3",
   "version": "3.9.6"
  }
 },
 "nbformat": 4,
 "nbformat_minor": 2
}
